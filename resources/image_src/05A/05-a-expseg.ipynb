{
 "cells": [
  {
   "cell_type": "code",
   "execution_count": 1,
   "metadata": {},
   "outputs": [
    {
     "name": "stdout",
     "output_type": "stream",
     "text": [
      "Csound engine started at slot#: 1.\n"
     ]
    }
   ],
   "source": [
    "%matplotlib qt5\n",
    "import matplotlib.pyplot as plt\n",
    "import numpy as np\n",
    "%load_ext csoundmagics\n",
    "cs = ICsound()"
   ]
  },
  {
   "cell_type": "code",
   "execution_count": 7,
   "metadata": {},
   "outputs": [],
   "source": [
    "%%csound\n",
    "i1 ftgen 1, 0, kr, 2, 0\n",
    "i2 ftgen 2, 0, kr, 2, 0\n",
    "i3 ftgen 3, 0, kr, 2, 0\n",
    "\n",
    "  instr 1\n",
    "kndx = 0\n",
    "while kndx < kr do\n",
    " kEnv     expon     1, 1, p5\n",
    " tablew kEnv, kndx, p4\n",
    " kndx += 1\n",
    "od\n",
    "turnoff\n",
    "endin\n",
    "schedule(1,0,1,1,0.001)\n",
    "schedule(1,0,1,2,0.000001)\n",
    "schedule(1,0,1,3,0.000000000000001)"
   ]
  },
  {
   "cell_type": "code",
   "execution_count": 10,
   "metadata": {},
   "outputs": [],
   "source": [
    "fig, ax = plt.subplots(nrows=3,figsize=(10,10))\n",
    "xmax = cs.tableLength(1)\n",
    "x = range(xmax)\n",
    "titles = ['expon(1, 1, 0.001)','expon(1, 1, 0.000001)','expon(1, 1, 0.000000000000001)']\n",
    "for i in range(3):\n",
    "    ax[i].set_xlim(0,xmax)\n",
    "    ax[i].set_xticks([0,xmax/2,xmax])\n",
    "    ax[i].set_xticklabels([0,0.5,1])\n",
    "    ax[i].set_xlabel('time (sec)',x=1)\n",
    "    ax[i].set_ylim(0,1.05)\n",
    "    ax[i].set_yticks([0,1])\n",
    "    ax[i].set_title(titles[i],y=.7)\n",
    "    #ax[i].axhline(c='k',lw=0.5)\n",
    "    ax[i].spines['top'].set_visible(False)\n",
    "    ax[i].spines['right'].set_visible(False)\n",
    "    #ax[i].spines['bottom'].set_visible(False)\n",
    "    ax[i].plot(x,cs.table(i+1),c='k')\n",
    "fig.tight_layout()\n",
    "plt.show()"
   ]
  },
  {
   "cell_type": "code",
   "execution_count": null,
   "metadata": {},
   "outputs": [],
   "source": [
    "cs.printLog()"
   ]
  },
  {
   "cell_type": "code",
   "execution_count": null,
   "metadata": {},
   "outputs": [],
   "source": []
  }
 ],
 "metadata": {
  "kernelspec": {
   "display_name": "Python 3",
   "language": "python",
   "name": "python3"
  },
  "language_info": {
   "codemirror_mode": {
    "name": "ipython",
    "version": 3
   },
   "file_extension": ".py",
   "mimetype": "text/x-python",
   "name": "python",
   "nbconvert_exporter": "python",
   "pygments_lexer": "ipython3",
   "version": "3.7.3"
  }
 },
 "nbformat": 4,
 "nbformat_minor": 2
}
