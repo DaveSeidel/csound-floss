{
 "cells": [
  {
   "cell_type": "code",
   "execution_count": 1,
   "metadata": {},
   "outputs": [
    {
     "name": "stdout",
     "output_type": "stream",
     "text": [
      "Csound engine started at slot#: 1.\n"
     ]
    }
   ],
   "source": [
    "%matplotlib qt5\n",
    "import matplotlib.pyplot as plt\n",
    "import numpy as np\n",
    "%load_ext csoundmagics\n",
    "cs = ICsound()"
   ]
  },
  {
   "cell_type": "code",
   "execution_count": 4,
   "metadata": {},
   "outputs": [],
   "source": [
    "%%csound\n",
    "giLinseg ftgen 1, 0, 4*kr, 2, 0\n",
    "giLine ftgen 2, 0, 4*kr, 2, 0\n",
    "\n",
    "  instr 1 ; linseg envelope\n",
    "kndx = 0\n",
    "while kndx < 4*kr do\n",
    " kEnv     linseg   0.2, 2, 0      ; linseg holds its last value\n",
    " tablew kEnv,kndx,1\n",
    " kndx += 1\n",
    "od\n",
    "turnoff\n",
    "  endin\n",
    "  schedule(1,0,1)\n",
    "\n",
    "  instr 2 ; line envelope\n",
    "kndx = 0\n",
    "while kndx < 4*kr do\n",
    " kEnv     line     0.2, 2, 0      ; line continues its trajectory\n",
    " tablew kEnv, kndx, 2\n",
    " kndx += 1\n",
    "od\n",
    "turnoff\n",
    "endin\n",
    "schedule(2,0,1)"
   ]
  },
  {
   "cell_type": "code",
   "execution_count": 29,
   "metadata": {},
   "outputs": [],
   "source": [
    "fig, ax = plt.subplots(nrows=2,figsize=(10,7))\n",
    "xmax = cs.tableLength(1)\n",
    "x = range(xmax)\n",
    "titles = ['linseg(0.2, 2, 0)','line(0.2. 2. 0)']\n",
    "for i in range(2):\n",
    "    ax[i].set_xlim(0,xmax)\n",
    "    ax[i].set_xticks([0,xmax/2,xmax])\n",
    "    ax[i].set_xticklabels([0,2,4])\n",
    "    ax[i].set_xlabel('time (sec)',x=1)\n",
    "    ax[i].set_ylim(-0.22,.22)\n",
    "    ax[i].set_yticks([-.2,0,.2])\n",
    "    ax[i].set_title(titles[i],y=.7)\n",
    "    ax[i].axhline(c='k',lw=0.5)\n",
    "    ax[i].axvline(c='k',x=xmax/2,ymax=0.5,ls=(0,(1,5)))\n",
    "    ax[i].spines['top'].set_visible(False)\n",
    "    ax[i].spines['right'].set_visible(False)\n",
    "    ax[i].spines['bottom'].set_visible(False)\n",
    "    ax[i].plot(x,cs.table(i+1),c='k')\n",
    "fig.tight_layout()\n",
    "plt.show()"
   ]
  },
  {
   "cell_type": "code",
   "execution_count": null,
   "metadata": {},
   "outputs": [],
   "source": [
    "cs.printLog()"
   ]
  },
  {
   "cell_type": "code",
   "execution_count": null,
   "metadata": {},
   "outputs": [],
   "source": []
  }
 ],
 "metadata": {
  "kernelspec": {
   "display_name": "Python 3",
   "language": "python",
   "name": "python3"
  },
  "language_info": {
   "codemirror_mode": {
    "name": "ipython",
    "version": 3
   },
   "file_extension": ".py",
   "mimetype": "text/x-python",
   "name": "python",
   "nbconvert_exporter": "python",
   "pygments_lexer": "ipython3",
   "version": "3.7.3"
  }
 },
 "nbformat": 4,
 "nbformat_minor": 2
}
