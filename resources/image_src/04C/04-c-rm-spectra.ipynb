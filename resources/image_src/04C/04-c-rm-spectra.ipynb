{
 "cells": [
  {
   "cell_type": "code",
   "execution_count": 1,
   "metadata": {},
   "outputs": [],
   "source": [
    "%matplotlib qt5\n",
    "from matplotlib import pyplot as plt"
   ]
  },
  {
   "cell_type": "code",
   "execution_count": 28,
   "metadata": {},
   "outputs": [],
   "source": [
    "fig,ax = plt.subplots(nrows=3, figsize=(10,10))\n",
    "carfreqs = [400,800,1200]\n",
    "modfreqs = [0, 100, 50]\n",
    "xlim = (250,1350)\n",
    "titles = ['Sound with three Harmonics','Each Harmonic ±100 Hz', 'Each harmonic ±50 Hz']\n",
    "\n",
    "for i in range(3):\n",
    "    freqs = [x+modfreqs[i] for x in carfreqs] + [x-modfreqs[i] for x in carfreqs if i>0]\n",
    "    #ax[i].bar(freqs,1,color='k',width=1,linewidth=1)\n",
    "    #ax[i].stem(freqs,[1]*len(freqs))\n",
    "    for f,bla in enumerate(freqs):\n",
    "        ax[i].axvline(freqs[f],ymax=.8,color='k')\n",
    "    ax[i].set_xlim(xlim)\n",
    "    ax[i].text(120,-0.08,'Frequency (Hz)')\n",
    "    ax[i].set_ylim(0,1.1)\n",
    "    ax[i].set_yticks([])\n",
    "    ax[i].set_xticks(freqs)\n",
    "    ax[i].set_title(titles[i], bbox=dict(boxstyle='square',fill=None,linewidth=.5), y=.9)\n",
    "    ax[i].spines['top'].set_visible(False)\n",
    "    ax[i].spines['left'].set_visible(False)\n",
    "    ax[i].spines['right'].set_visible(False)\n",
    "    \n",
    "fig.tight_layout()\n",
    "fig.show()"
   ]
  },
  {
   "cell_type": "code",
   "execution_count": null,
   "metadata": {},
   "outputs": [],
   "source": [
    "help(plt.)"
   ]
  },
  {
   "cell_type": "code",
   "execution_count": null,
   "metadata": {},
   "outputs": [],
   "source": []
  }
 ],
 "metadata": {
  "kernelspec": {
   "display_name": "Python 3",
   "language": "python",
   "name": "python3"
  },
  "language_info": {
   "codemirror_mode": {
    "name": "ipython",
    "version": 3
   },
   "file_extension": ".py",
   "mimetype": "text/x-python",
   "name": "python",
   "nbconvert_exporter": "python",
   "pygments_lexer": "ipython3",
   "version": "3.7.3"
  }
 },
 "nbformat": 4,
 "nbformat_minor": 2
}
