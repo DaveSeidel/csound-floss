{
 "cells": [
  {
   "cell_type": "code",
   "execution_count": 1,
   "metadata": {},
   "outputs": [
    {
     "name": "stdout",
     "output_type": "stream",
     "text": [
      "Csound engine started at slot#: 1.\n"
     ]
    }
   ],
   "source": [
    "%matplotlib qt5\n",
    "import matplotlib.pyplot as plt\n",
    "import numpy as np\n",
    "%load_ext csoundmagics\n",
    "cs = ICsound()"
   ]
  },
  {
   "cell_type": "code",
   "execution_count": null,
   "metadata": {},
   "outputs": [],
   "source": [
    "%%csound\n",
    "f1 0 128 -7 0 128 128\n",
    "f2 5 128 -23 \"spiral-8,16,128,2,1over2\"\n",
    "f3 10 128 -7 127 64 1 63 127"
   ]
  },
  {
   "cell_type": "code",
   "execution_count": null,
   "metadata": {},
   "outputs": [],
   "source": [
    "fig, ax = plt.subplots(ncols=2,figsize=(15,5))\n",
    "xmax = cs.tableLength(1)\n",
    "x = range(xmax)\n",
    "titles = ['Position','Masses']\n",
    "yticks = [[-1,0,1],[0.0001,0.01],[0,100],[0,1],[0]]\n",
    "for i in range(2):\n",
    "    ax[i].set_xlim(0,xmax)\n",
    "    ax[i].set_xticks([])\n",
    "    ax[i].set_yticks(yticks[i])\n",
    "    ax[i].set_title(titles[i])\n",
    "    ax[i].axhline(c='k',lw=0.5)\n",
    "    ax[i].spines['top'].set_visible(False)\n",
    "    ax[i].spines['right'].set_visible(False)\n",
    "    ax[i].spines['bottom'].set_visible(False)\n",
    "    ax[i].plot(x,cs.table(i+1),c='k')\n",
    "fig.tight_layout()\n",
    "plt.show()"
   ]
  },
  {
   "cell_type": "code",
   "execution_count": null,
   "metadata": {},
   "outputs": [],
   "source": [
    "cs.printLog()"
   ]
  },
  {
   "cell_type": "code",
   "execution_count": null,
   "metadata": {},
   "outputs": [],
   "source": []
  }
 ],
 "metadata": {
  "kernelspec": {
   "display_name": "Python 3",
   "language": "python",
   "name": "python3"
  },
  "language_info": {
   "codemirror_mode": {
    "name": "ipython",
    "version": 3
   },
   "file_extension": ".py",
   "mimetype": "text/x-python",
   "name": "python",
   "nbconvert_exporter": "python",
   "pygments_lexer": "ipython3",
   "version": "3.7.3"
  }
 },
 "nbformat": 4,
 "nbformat_minor": 2
}
