{
 "cells": [
  {
   "cell_type": "code",
   "execution_count": 1,
   "metadata": {},
   "outputs": [
    {
     "name": "stdout",
     "output_type": "stream",
     "text": [
      "Csound engine started at slot#: 1.\n"
     ]
    }
   ],
   "source": [
    "%matplotlib qt5\n",
    "import matplotlib.pyplot as plt\n",
    "import numpy as np\n",
    "%load_ext csoundmagics\n",
    "cs = ICsound()"
   ]
  },
  {
   "cell_type": "code",
   "execution_count": 6,
   "metadata": {},
   "outputs": [],
   "source": [
    "%%csound\n",
    "    gipos ftgen 1, 0, 129, 10, 1 ;Initial Shape: Sine wave range -1 to 1\n",
    "    gimass ftgen 2, 0, 129, -7, 1, 128, 1 ;Masses: Constant value 1\n",
    "    gistiff ftgen 3, 0, 129, -7, 0, 64, 100, 64, 0 ;Stiffness: Unipolar triangle range to 100\n",
    "    gidamp ftgen 4, 0, 129, -7, 1, 128, 1 ;Damping: Constant value 1\n",
    "    givel ftgen 5, 0, 129, -2, 0 ;Initial Velocity: Constant value 0"
   ]
  },
  {
   "cell_type": "code",
   "execution_count": 11,
   "metadata": {},
   "outputs": [],
   "source": [
    "fig, ax = plt.subplots(ncols=5,figsize=(20,5))\n",
    "xmax = cs.tableLength(1)\n",
    "x = range(xmax)\n",
    "titles = ['Position','Masses','Stiffness','Damping','Velocity']\n",
    "yticks = [[-1,0,1],[0,1],[0,100],[0,1],[0]]\n",
    "for i in range(5):\n",
    "    ax[i].set_xlim(0,xmax)\n",
    "    ax[i].set_xticks([])\n",
    "    ax[i].set_yticks(yticks[i])\n",
    "    ax[i].set_title(titles[i])\n",
    "    ax[i].axhline(c='k',lw=0.5)\n",
    "    ax[i].spines['top'].set_visible(False)\n",
    "    ax[i].spines['right'].set_visible(False)\n",
    "    ax[i].spines['bottom'].set_visible(False)\n",
    "    ax[i].plot(x,cs.table(i+1),c='k')\n",
    "fig.tight_layout()\n",
    "plt.show()"
   ]
  },
  {
   "cell_type": "code",
   "execution_count": null,
   "metadata": {},
   "outputs": [],
   "source": [
    "cs.printLog()"
   ]
  },
  {
   "cell_type": "code",
   "execution_count": null,
   "metadata": {},
   "outputs": [],
   "source": []
  }
 ],
 "metadata": {
  "kernelspec": {
   "display_name": "Python 3",
   "language": "python",
   "name": "python3"
  },
  "language_info": {
   "codemirror_mode": {
    "name": "ipython",
    "version": 3
   },
   "file_extension": ".py",
   "mimetype": "text/x-python",
   "name": "python",
   "nbconvert_exporter": "python",
   "pygments_lexer": "ipython3",
   "version": "3.7.3"
  }
 },
 "nbformat": 4,
 "nbformat_minor": 2
}
