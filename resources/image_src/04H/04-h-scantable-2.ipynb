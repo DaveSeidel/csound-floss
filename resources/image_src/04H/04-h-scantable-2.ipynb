{
 "cells": [
  {
   "cell_type": "code",
   "execution_count": 1,
   "metadata": {},
   "outputs": [
    {
     "name": "stdout",
     "output_type": "stream",
     "text": [
      "Csound engine started at slot#: 1.\n"
     ]
    }
   ],
   "source": [
    "%matplotlib qt5\n",
    "import matplotlib.pyplot as plt\n",
    "import numpy as np\n",
    "%load_ext csoundmagics\n",
    "cs = ICsound()"
   ]
  },
  {
   "cell_type": "code",
   "execution_count": 19,
   "metadata": {},
   "outputs": [],
   "source": [
    "%%csound\n",
    "gipos ftgen 1, 0, 128, 10, 1 ;position of the masses (initially: sine)\n",
    "gimass ftgen 2, 0, 128, -7, 1, 128, 1 ;Masses(adj.), constant value 1\n",
    "gistiff ftgen 3, 0, 128, -7, 0, 64, 100, 64, 0 ;Stiffness; unipolar triangle range 0 to 100\n",
    "gidamp ftgen 4, 0, 128, -7, 1, 128, 1 ;Damping; constant value 1\n",
    "givel ftgen 5, 0, 128, -2, 0 ;Velocity (initially: 0)\n",
    "\n",
    "iPos1 ftgen 11,0,128,2,0\n",
    "iPos2 ftgen 12,0,128,2,0\n",
    "iPos3 ftgen 13,0,128,2,0\n",
    "iVel1 ftgen 21,0,128,2,0\n",
    "iVel2 ftgen 22,0,128,2,0\n",
    "iVel3 ftgen 23,0,128,2,0\n",
    "\n",
    " instr 1\n",
    "iamp = .2\n",
    "ifrq = 440\n",
    "if timeinstk()==1 then\n",
    " tablecopy 11,1\n",
    " tablecopy 21,5\n",
    "elseif timeinstk()==int(8*kr) then\n",
    " tablecopy 12,1\n",
    " tablecopy 22,5\n",
    "elseif timeinstk()==int(16*kr) then\n",
    " tablecopy 13,1\n",
    " tablecopy 23,5\n",
    "endif\n",
    "aScan scantable iamp, ifrq, gipos, gimass, gistiff, gidamp, givel\n",
    "aOut linen aScan, 1, p3, 1\n",
    " out aOut, aOut\n",
    " endin\n",
    "schedule(1,0,19)"
   ]
  },
  {
   "cell_type": "code",
   "execution_count": 16,
   "metadata": {},
   "outputs": [],
   "source": [
    "fig, ax = plt.subplots(nrows=2,ncols=3,figsize=(15,10))\n",
    "xmax = cs.tableLength(1)\n",
    "x = range(xmax)\n",
    "titles = ['Table gipos at 0 sec','Table gipos at 8 sec','Table gipos at 16 sec']\n",
    "for i in range(3):\n",
    "    ax[0][i].set_xlim(0,xmax)\n",
    "    ax[0][i].set_ylim(-1.3,1.3)\n",
    "    ax[0][i].set_xticks([])\n",
    "    ax[0][i].set_yticks([-1,0,1])\n",
    "    ax[0][i].set_title(titles[i])\n",
    "    ax[0][i].axhline(c='k',lw=0.5)\n",
    "    ax[0][i].spines['top'].set_visible(False)\n",
    "    ax[0][i].spines['right'].set_visible(False)\n",
    "    ax[0][i].spines['bottom'].set_visible(False)\n",
    "    ax[0][i].plot(x,cs.table(i+11),c='k')\n",
    "titles = ['Table givel at 0 sec','Table givel at 8 sec','Table givel at 16 sec']\n",
    "for i in range(3):\n",
    "    ax[1][i].set_xlim(0,xmax)\n",
    "    ax[1][i].set_ylim(-0.6,0.6)\n",
    "    ax[1][i].set_xticks([])\n",
    "    ax[1][i].set_yticks([-0.5,0,0.5])\n",
    "    ax[1][i].set_title(titles[i])\n",
    "    ax[1][i].axhline(c='k',lw=0.5)\n",
    "    ax[1][i].spines['top'].set_visible(False)\n",
    "    ax[1][i].spines['right'].set_visible(False)\n",
    "    ax[1][i].spines['bottom'].set_visible(False)\n",
    "    ax[1][i].plot(x,cs.table(i+21),c='k')\n",
    "fig.tight_layout()\n",
    "plt.show()"
   ]
  },
  {
   "cell_type": "code",
   "execution_count": null,
   "metadata": {},
   "outputs": [],
   "source": [
    "cs.printLog()"
   ]
  },
  {
   "cell_type": "code",
   "execution_count": null,
   "metadata": {},
   "outputs": [],
   "source": []
  }
 ],
 "metadata": {
  "kernelspec": {
   "display_name": "Python 3",
   "language": "python",
   "name": "python3"
  },
  "language_info": {
   "codemirror_mode": {
    "name": "ipython",
    "version": 3
   },
   "file_extension": ".py",
   "mimetype": "text/x-python",
   "name": "python",
   "nbconvert_exporter": "python",
   "pygments_lexer": "ipython3",
   "version": "3.7.3"
  }
 },
 "nbformat": 4,
 "nbformat_minor": 2
}
