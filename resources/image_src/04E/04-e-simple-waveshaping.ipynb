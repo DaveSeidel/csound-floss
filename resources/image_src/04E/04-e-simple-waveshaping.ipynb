{
 "cells": [
  {
   "cell_type": "code",
   "execution_count": 1,
   "metadata": {},
   "outputs": [
    {
     "name": "stdout",
     "output_type": "stream",
     "text": [
      "Csound engine started at slot#: 1.\n"
     ]
    }
   ],
   "source": [
    "%matplotlib qt5\n",
    "import matplotlib.pyplot as plt\n",
    "import numpy as np\n",
    "%load_ext csoundmagics\n",
    "cs = ICsound()"
   ]
  },
  {
   "cell_type": "code",
   "execution_count": 7,
   "metadata": {},
   "outputs": [],
   "source": [
    "%%csound\n",
    "\n",
    "giTrnsFnc ftgen 2, 0, 4097, -7, -0.5, 1024, -0.5, 2048, 0.5, 1024, 0.5\n",
    "giSine    ftgen 0, 0, 4097, 10, 1\n",
    "giSineRec ftgen 1, 0, (3/400)*sr, 2, 0\n",
    "giRec     ftgen 3, 0, (3/400)*sr, 2, 0\n",
    "\n",
    "instr 1\n",
    "aAmp      poscil    1, 400, giSine\n",
    "aIndx     =         (aAmp + 1) / 2\n",
    "aWavShp   tablei    aIndx, giTrnsFnc, 1\n",
    "aWriteIndx linseg 0, 3/400, (3/400)*sr\n",
    "tablew aWavShp, aWriteIndx, giRec\n",
    "tablew poscil:a(1,400),aWriteIndx,giSineRec\n",
    "endin\n",
    ";schedule(1,0,3/400)"
   ]
  },
  {
   "cell_type": "code",
   "execution_count": 8,
   "metadata": {},
   "outputs": [
    {
     "data": {
      "text/plain": [
       "0"
      ]
     },
     "execution_count": 8,
     "metadata": {},
     "output_type": "execute_result"
    }
   ],
   "source": [
    "cs.readScore('i 1 0 [3/400]')"
   ]
  },
  {
   "cell_type": "code",
   "execution_count": 15,
   "metadata": {},
   "outputs": [],
   "source": [
    "fig, ax = plt.subplots(nrows=3,figsize=(10,10))\n",
    "#plot 1\n",
    "xmax_1 = cs.tableLength(1)\n",
    "x_1 = range(xmax_1)\n",
    "ax[0].set_xlim(0,xmax_1-100)\n",
    "ax[0].set_xticks([])\n",
    "ax[0].set_yticks([-1,0,1])\n",
    "ax[0].set_title('Sine Input')\n",
    "ax[0].axhline(c='k',lw=0.5)\n",
    "ax[0].spines['top'].set_visible(False)\n",
    "ax[0].spines['right'].set_visible(False)\n",
    "ax[0].spines['bottom'].set_visible(False)\n",
    "ax[0].plot(x_1,cs.table(1),c='k')\n",
    "#plot 2\n",
    "xmax_2 = cs.tableLength(2)\n",
    "x_2 = range(xmax_2)\n",
    "ax[1].set_xlim(0,xmax_2)\n",
    "ax[1].set_xticks([])\n",
    "ax[1].set_yticks([-0.5,0,0.5])\n",
    "ax[1].set_ylim([-0.7,0.7])\n",
    "ax[1].set_title('Transfer function')\n",
    "ax[1].axhline(c='k',lw=0.5)\n",
    "#ax[1].spines['top'].set_visible(False)\n",
    "#ax[1].spines['right'].set_visible(False)\n",
    "#ax[1].spines['bottom'].set_visible(False)\n",
    "ax[1].plot(x_2,cs.table(2),c='k')\n",
    "#pl1t 3\n",
    "xmax_3 = cs.tableLength(3)\n",
    "x_3 = range(xmax_3)\n",
    "ax[2].set_xlim(0,xmax_3-100)\n",
    "ax[2].set_xticks([])\n",
    "ax[2].set_yticks([-0.5,0,0.5])\n",
    "ax[2].set_ylim([-0.7,0.7])\n",
    "ax[2].set_title('Waveshaped result')\n",
    "ax[2].axhline(c='k',lw=0.5)\n",
    "ax[2].spines['top'].set_visible(False)\n",
    "ax[2].spines['right'].set_visible(False)\n",
    "ax[2].spines['bottom'].set_visible(False)\n",
    "ax[2].plot(x_3,cs.table(3),c='k')\n",
    "\n",
    "\n",
    "fig.tight_layout()\n",
    "plt.show()"
   ]
  },
  {
   "cell_type": "code",
   "execution_count": 4,
   "metadata": {},
   "outputs": [
    {
     "name": "stdout",
     "output_type": "stream",
     "text": [
      "Help on method scoreEvent in module ctcsound:\n",
      "\n",
      "scoreEvent(type_, pFields) method of csoundmagics.ICsound instance\n",
      "    Sends a new score event.\n",
      "    \n",
      "    | *type_* is the score event type ('a', 'i', 'q', 'f', or 'e').\n",
      "    | *pFields* is a tuple, a list, or an ndarray of MYFLTs with all the\n",
      "      pfields for this event, starting with the p1 value specified in\n",
      "      pFields[0].\n",
      "\n"
     ]
    }
   ],
   "source": [
    "help(cs.play)"
   ]
  },
  {
   "cell_type": "code",
   "execution_count": null,
   "metadata": {},
   "outputs": [],
   "source": []
  }
 ],
 "metadata": {
  "kernelspec": {
   "display_name": "Python 3",
   "language": "python",
   "name": "python3"
  },
  "language_info": {
   "codemirror_mode": {
    "name": "ipython",
    "version": 3
   },
   "file_extension": ".py",
   "mimetype": "text/x-python",
   "name": "python",
   "nbconvert_exporter": "python",
   "pygments_lexer": "ipython3",
   "version": "3.7.3"
  }
 },
 "nbformat": 4,
 "nbformat_minor": 2
}
