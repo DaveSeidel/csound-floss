{
 "cells": [
  {
   "cell_type": "code",
   "execution_count": 2,
   "metadata": {},
   "outputs": [],
   "source": [
    "%matplotlib qt5\n",
    "from matplotlib import pyplot as plt"
   ]
  },
  {
   "cell_type": "code",
   "execution_count": 14,
   "metadata": {},
   "outputs": [],
   "source": [
    "fig,ax = plt.subplots(figsize=(10,5))\n",
    "ax.spines['top'].set_visible(False)\n",
    "ax.spines['right'].set_visible(False)\n",
    "ax.spines['left'].set_visible(False)\n",
    "ax.spines['bottom'].set_visible(False)\n",
    "ax.bar([2,3,4,5,6,7,8],[.1,.2,.4,.8,.4,.2,.1],width=.04,color='k')\n",
    "ax.set_xlim(-0.5,10.1)\n",
    "ax.set_yticks([])\n",
    "ax.text(-.3,.7,'Amplitude',rotation='90')\n",
    "ax.set_ylim(-.02,1)\n",
    "ax.text(9.3,-0.1,'Frequency')\n",
    "ax.arrow(0, 0, 0, .9, head_width=.1, head_length=0.02, fc='k', ec='k')\n",
    "ax.arrow(0, 0, 10, 0, head_width=.02, head_length=0.1, fc='k', ec='k')\n",
    "ax.set_xticks((2,3,4,5,6,7,8))\n",
    "ax.xaxis.set_ticks_position('none') \n",
    "ax.set_xticklabels(('$F_C-3F_M$','$F_C-2F_M$','$F_C-F_M$','$F_C$','$F_C+F_M$','$F_C+2F_M$','$F_C+3F_M$'),rotation='45',fontsize='large')\n",
    "fig.tight_layout()\n",
    "plt.show()"
   ]
  },
  {
   "cell_type": "code",
   "execution_count": null,
   "metadata": {},
   "outputs": [],
   "source": []
  }
 ],
 "metadata": {
  "kernelspec": {
   "display_name": "Python 3",
   "language": "python",
   "name": "python3"
  },
  "language_info": {
   "codemirror_mode": {
    "name": "ipython",
    "version": 3
   },
   "file_extension": ".py",
   "mimetype": "text/x-python",
   "name": "python",
   "nbconvert_exporter": "python",
   "pygments_lexer": "ipython3",
   "version": "3.7.3"
  }
 },
 "nbformat": 4,
 "nbformat_minor": 2
}
