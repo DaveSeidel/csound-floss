{
 "cells": [
  {
   "cell_type": "code",
   "execution_count": 1,
   "metadata": {},
   "outputs": [],
   "source": [
    "from matplotlib import pyplot as plt\n",
    "import numpy as np"
   ]
  },
  {
   "cell_type": "code",
   "execution_count": 3,
   "metadata": {},
   "outputs": [],
   "source": [
    "%matplotlib inline"
   ]
  },
  {
   "cell_type": "code",
   "execution_count": 3,
   "metadata": {},
   "outputs": [],
   "source": [
    "%matplotlib qt5"
   ]
  },
  {
   "cell_type": "code",
   "execution_count": 14,
   "metadata": {},
   "outputs": [],
   "source": [
    "f,a = plt.subplots(figsize=(10,5))\n",
    "a.plot(np.hamming(1024),c='g',label='Hamming')\n",
    "a.plot(np.hanning(1024),c='r',label='von-Hann (Hanning)')\n",
    "a.set_xlim(0,1024)\n",
    "a.set_xticks([0,256,512,768,1024])\n",
    "a.set_ylim(0,1.05)\n",
    "a.set_xlabel('Samples')\n",
    "a.legend()\n",
    "f.savefig('05-i-fft-wins.png',dpi=200,bbox_inches='tight')\n",
    "#suptitle('Hamming and Hanning window (1024 samples)')"
   ]
  },
  {
   "cell_type": "code",
   "execution_count": 13,
   "metadata": {},
   "outputs": [],
   "source": [
    "size = 1024\n",
    "f,a = plt.subplots(figsize=(15,5))\n",
    "a.plot(np.arange(0,size),np.hanning(size))\n",
    "a.plot(np.arange(size/4,size/4+size),np.hanning(size))\n",
    "a.plot(np.arange(size/2,size+size/2),np.hanning(size))\n",
    "a.plot(np.arange(size*3/4,size+size*3/4),np.hanning(size))\n",
    "a.set_xlim(0,size+size*3/4)\n",
    "a.set_ylim(0,1.05)\n",
    "a.set_xticks([0,256,512,512+256,1024,1024+256,1024+512,1024+size*3/4])\n",
    "a.set_xlabel('samples')\n",
    "f.savefig('05-i-overlap.png',dpi=200,bbox_inches='tight')\n",
    "#suptitle('Four overlapping Hanning windows (each of size=1024 samples)')"
   ]
  },
  {
   "cell_type": "code",
   "execution_count": 12,
   "metadata": {},
   "outputs": [],
   "source": [
    "f,a = plt.subplots(ncols=3, figsize=(15,5))\n",
    "max_freq = 1000\n",
    "size = [512,1024,2048]\n",
    "for i in range(len(a)):\n",
    "    a[i].set_ylim(0,max_freq)\n",
    "    fund_freq = 44100/size[i]\n",
    "    bins = [x*fund_freq for x in range(round(max_freq/fund_freq))]\n",
    "    for bin in bins:\n",
    "        a[i].axhline(bin,c='k')\n",
    "    a[i].set_xticks([])\n",
    "    #a[i].set_yticks([0,1000])\n",
    "    a[i].set_ylabel('Hz',rotation=0)\n",
    "    a[i].yaxis.set_label_coords(-0.06,1.05)\n",
    "    a[i].title.set_text('size = %d, bins 0 - %d' % (size[i],len(bins)-1))\n",
    "f.savefig('05-i-bins.png',dpi=200,bbox_inches='tight')"
   ]
  },
  {
   "cell_type": "code",
   "execution_count": null,
   "metadata": {},
   "outputs": [],
   "source": []
  }
 ],
 "metadata": {
  "kernelspec": {
   "display_name": "Python 3",
   "language": "python",
   "name": "python3"
  },
  "language_info": {
   "codemirror_mode": {
    "name": "ipython",
    "version": 3
   },
   "file_extension": ".py",
   "mimetype": "text/x-python",
   "name": "python",
   "nbconvert_exporter": "python",
   "pygments_lexer": "ipython3",
   "version": "3.7.3"
  }
 },
 "nbformat": 4,
 "nbformat_minor": 4
}
