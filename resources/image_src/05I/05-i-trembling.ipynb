{
 "cells": [
  {
   "cell_type": "code",
   "execution_count": 1,
   "metadata": {},
   "outputs": [
    {
     "name": "stdout",
     "output_type": "stream",
     "text": [
      "Csound engine started at slot#: 1.\n"
     ]
    }
   ],
   "source": [
    "%matplotlib qt5\n",
    "import matplotlib.pyplot as plt\n",
    "import numpy as np\n",
    "%load_ext csoundmagics\n",
    "cs = ICsound()"
   ]
  },
  {
   "cell_type": "code",
   "execution_count": 10,
   "metadata": {},
   "outputs": [],
   "source": [
    "%%csound\n",
    "i0 ftgen 1, 0, 20*kr, 2, 0\n",
    "\n",
    "instr 1\n",
    "kndx = 0\n",
    "while kndx < ftlen(1) do\n",
    " ktmpnt = linseg:k(0,20,2.757) + randi:k(1/5,10)\n",
    " tablew ktmpnt, kndx, 1\n",
    " kndx += 1\n",
    "od\n",
    "turnoff\n",
    "endin\n",
    "schedule(1,0,1)"
   ]
  },
  {
   "cell_type": "code",
   "execution_count": 12,
   "metadata": {},
   "outputs": [],
   "source": [
    "fig, ax = plt.subplots(figsize=(10,5))\n",
    "xmax = cs.tableLength(1)\n",
    "x = range(xmax)\n",
    "ax.set_xlim(0,xmax)\n",
    "#ax.set_yticks([-0.5,0,0.5])\n",
    "ax.set_xticks([0,xmax/4,xmax/2,xmax*3/4,xmax])\n",
    "ax.set_xticklabels([0,5,10,15,20])\n",
    "ax.spines['top'].set_visible(False)\n",
    "ax.spines['right'].set_visible(False)\n",
    "ax.set_xlabel('performance time (s)')\n",
    "ax.set_ylabel('read pointer (s)')\n",
    "ax.plot(x,cs.table(1),c='k')\n",
    "fig.tight_layout()\n",
    "plt.show()"
   ]
  },
  {
   "cell_type": "code",
   "execution_count": null,
   "metadata": {},
   "outputs": [],
   "source": [
    "cs.printLog()"
   ]
  },
  {
   "cell_type": "code",
   "execution_count": null,
   "metadata": {},
   "outputs": [],
   "source": []
  }
 ],
 "metadata": {
  "kernelspec": {
   "display_name": "Python 3",
   "language": "python",
   "name": "python3"
  },
  "language_info": {
   "codemirror_mode": {
    "name": "ipython",
    "version": 3
   },
   "file_extension": ".py",
   "mimetype": "text/x-python",
   "name": "python",
   "nbconvert_exporter": "python",
   "pygments_lexer": "ipython3",
   "version": "3.7.3"
  }
 },
 "nbformat": 4,
 "nbformat_minor": 2
}
