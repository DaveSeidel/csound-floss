{
 "cells": [
  {
   "cell_type": "code",
   "execution_count": 1,
   "metadata": {},
   "outputs": [],
   "source": [
    "%matplotlib qt5\n",
    "import matplotlib.pyplot as plt\n",
    "import numpy as np\n",
    "import soundfile as sf"
   ]
  },
  {
   "cell_type": "code",
   "execution_count": 78,
   "metadata": {},
   "outputs": [],
   "source": [
    "def plotSF4(sfil,start=0,end=-1,ylim=(-0.1,1.1),plot=[0,0],fig=None,axes=None):\n",
    "    \"\"\"four plots in one image\"\"\"\n",
    "    amps, sr = sf.read(sfil,frames=0) #just get sr\n",
    "    first = round(start*sr)\n",
    "    last = -1 if end==-1 else round(end*sr)\n",
    "    amps, sr = sf.read(sfil,start=first,stop=last,always_2d=True)\n",
    "    numframes = len(amps)\n",
    "    endsecs = numframes/sr+start\n",
    "    time = np.linspace(start, endsecs, numframes)\n",
    "    ax = axes[plot[0]]\n",
    "    ax.hlines(0, 0, endsecs,lw=.1)\n",
    "    ax.spines['top'].set_visible(False)\n",
    "    ax.spines['right'].set_visible(False)\n",
    "    ax.spines['bottom'].set_visible(False)\n",
    "    ax.xaxis.set_ticks_position('bottom')\n",
    "    ax.yaxis.set_ticks_position('left')\n",
    "    ax.set_xlim(start,endsecs)\n",
    "    ax.set_ylim(ylim)\n",
    "    ax.set_xticks([0.01])\n",
    "    ax.set_yticks([0,1])\n",
    "    ax.fill_between(time,amps[:,0],color='lightgrey')\n",
    "    ax.scatter(time, amps[:,0], color='black',marker='.')"
   ]
  },
  {
   "cell_type": "code",
   "execution_count": 87,
   "metadata": {},
   "outputs": [],
   "source": [
    "fig,axes = plt.subplots(4,1,figsize=(15,12),sharex=True)\n",
    "plotSF4('03-a-ksmps-1.wav',plot=[0,0],fig=fig,axes=axes)\n",
    "plotSF4('03-a-ksmps-2.wav',plot=[1,0],fig=fig,axes=axes)\n",
    "plotSF4('03-a-ksmps-3.wav',plot=[2,0],fig=fig,axes=axes)\n",
    "plotSF4('03-a-ksmps-4.wav',plot=[3,0],fig=fig,axes=axes)\n",
    "axes[0].set_title('ksmps=128')\n",
    "axes[1].set_title('ksmps=32')\n",
    "axes[2].set_title('ksmps=1')\n",
    "axes[3].set_title('ksmps=128 and --sample-accurate')\n",
    "axes[3].set_xlabel('time (s)')\n",
    "fig.tight_layout()\n",
    "plt.show()"
   ]
  },
  {
   "cell_type": "code",
   "execution_count": null,
   "metadata": {},
   "outputs": [],
   "source": []
  }
 ],
 "metadata": {
  "kernelspec": {
   "display_name": "Python 3",
   "language": "python",
   "name": "python3"
  },
  "language_info": {
   "codemirror_mode": {
    "name": "ipython",
    "version": 3
   },
   "file_extension": ".py",
   "mimetype": "text/x-python",
   "name": "python",
   "nbconvert_exporter": "python",
   "pygments_lexer": "ipython3",
   "version": "3.7.3"
  }
 },
 "nbformat": 4,
 "nbformat_minor": 2
}
