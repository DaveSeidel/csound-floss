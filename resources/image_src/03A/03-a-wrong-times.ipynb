{
 "cells": [
  {
   "cell_type": "code",
   "execution_count": 4,
   "metadata": {},
   "outputs": [],
   "source": [
    "%matplotlib qt5\n",
    "import matplotlib.pyplot as plt\n",
    "import numpy as np\n",
    "import soundfile as sf"
   ]
  },
  {
   "cell_type": "code",
   "execution_count": 11,
   "metadata": {},
   "outputs": [],
   "source": [
    "def plotSF(sfil,start=0,end=-1,ylim=(-1,1)):\n",
    "    \"\"\"plots the first channel of a sound file from \n",
    "    start (sec, default=0) to end (sec, default=-1=all)\"\"\"\n",
    "    amps, sr = sf.read(sfil,frames=0) #just get sr\n",
    "    first = round(start*sr)\n",
    "    last = -1 if end==-1 else round(end*sr)\n",
    "    amps, sr = sf.read(sfil,start=first,stop=last,always_2d=True)\n",
    "    numframes = len(amps)\n",
    "    endsecs = numframes/sr+start\n",
    "    time = np.linspace(start, endsecs, numframes)\n",
    "    fig,ax = plt.subplots(figsize=(15,4))\n",
    "    ax.hlines(0, start, endsecs)\n",
    "    ax.spines['top'].set_visible(False)\n",
    "    ax.spines['right'].set_visible(False)\n",
    "    ax.spines['bottom'].set_visible(False)\n",
    "    ax.xaxis.set_ticks_position('bottom')\n",
    "    ax.yaxis.set_ticks_position('left')\n",
    "    ax.set_xlim(start, endsecs)\n",
    "    ax.set_ylim(ylim)\n",
    "    ax.plot(time, amps[:,0], color='black', lw=1)\n",
    "    \n",
    "    plt.show()"
   ]
  },
  {
   "cell_type": "code",
   "execution_count": 14,
   "metadata": {},
   "outputs": [],
   "source": [
    "plotSF('/home/jh/Desktop/test.wav',end=0.61,ylim=(-0.5,0.5))"
   ]
  },
  {
   "cell_type": "code",
   "execution_count": 10,
   "metadata": {},
   "outputs": [
    {
     "name": "stdout",
     "output_type": "stream",
     "text": [
      "Help on function read in module soundfile:\n",
      "\n",
      "read(file, frames=-1, start=0, stop=None, dtype='float64', always_2d=False, fill_value=None, out=None, samplerate=None, channels=None, format=None, subtype=None, endian=None, closefd=True)\n",
      "    Provide audio data from a sound file as NumPy array.\n",
      "    \n",
      "    By default, the whole file is read from the beginning, but the\n",
      "    position to start reading can be specified with `start` and the\n",
      "    number of frames to read can be specified with `frames`.\n",
      "    Alternatively, a range can be specified with `start` and `stop`.\n",
      "    \n",
      "    If there is less data left in the file than requested, the rest of\n",
      "    the frames are filled with `fill_value`.\n",
      "    If no `fill_value` is specified, a smaller array is returned.\n",
      "    \n",
      "    Parameters\n",
      "    ----------\n",
      "    file : str or int or file-like object\n",
      "        The file to read from.  See :class:`SoundFile` for details.\n",
      "    frames : int, optional\n",
      "        The number of frames to read. If `frames` is negative, the whole\n",
      "        rest of the file is read.  Not allowed if `stop` is given.\n",
      "    start : int, optional\n",
      "        Where to start reading.  A negative value counts from the end.\n",
      "    stop : int, optional\n",
      "        The index after the last frame to be read.  A negative value\n",
      "        counts from the end.  Not allowed if `frames` is given.\n",
      "    dtype : {'float64', 'float32', 'int32', 'int16'}, optional\n",
      "        Data type of the returned array, by default ``'float64'``.\n",
      "        Floating point audio data is typically in the range from\n",
      "        ``-1.0`` to ``1.0``.  Integer data is in the range from\n",
      "        ``-2**15`` to ``2**15-1`` for ``'int16'`` and from ``-2**31`` to\n",
      "        ``2**31-1`` for ``'int32'``.\n",
      "    \n",
      "        .. note:: Reading int values from a float file will *not*\n",
      "            scale the data to [-1.0, 1.0). If the file contains\n",
      "            ``np.array([42.6], dtype='float32')``, you will read\n",
      "            ``np.array([43], dtype='int32')`` for ``dtype='int32'``.\n",
      "    \n",
      "    Returns\n",
      "    -------\n",
      "    audiodata : numpy.ndarray or type(out)\n",
      "        A two-dimensional (frames x channels) NumPy array is returned.\n",
      "        If the sound file has only one channel, a one-dimensional array\n",
      "        is returned.  Use ``always_2d=True`` to return a two-dimensional\n",
      "        array anyway.\n",
      "    \n",
      "        If `out` was specified, it is returned.  If `out` has more\n",
      "        frames than available in the file (or if `frames` is smaller\n",
      "        than the length of `out`) and no `fill_value` is given, then\n",
      "        only a part of `out` is overwritten and a view containing all\n",
      "        valid frames is returned.\n",
      "    samplerate : int\n",
      "        The sample rate of the audio file.\n",
      "    \n",
      "    Other Parameters\n",
      "    ----------------\n",
      "    always_2d : bool, optional\n",
      "        By default, reading a mono sound file will return a\n",
      "        one-dimensional array.  With ``always_2d=True``, audio data is\n",
      "        always returned as a two-dimensional array, even if the audio\n",
      "        file has only one channel.\n",
      "    fill_value : float, optional\n",
      "        If more frames are requested than available in the file, the\n",
      "        rest of the output is be filled with `fill_value`.  If\n",
      "        `fill_value` is not specified, a smaller array is returned.\n",
      "    out : numpy.ndarray or subclass, optional\n",
      "        If `out` is specified, the data is written into the given array\n",
      "        instead of creating a new array.  In this case, the arguments\n",
      "        `dtype` and `always_2d` are silently ignored!  If `frames` is\n",
      "        not given, it is obtained from the length of `out`.\n",
      "    samplerate, channels, format, subtype, endian, closefd\n",
      "        See :class:`SoundFile`.\n",
      "    \n",
      "    Examples\n",
      "    --------\n",
      "    >>> import soundfile as sf\n",
      "    >>> data, samplerate = sf.read('stereo_file.wav')\n",
      "    >>> data\n",
      "    array([[ 0.71329652,  0.06294799],\n",
      "           [-0.26450912, -0.38874483],\n",
      "           ...\n",
      "           [ 0.67398441, -0.11516333]])\n",
      "    >>> samplerate\n",
      "    44100\n",
      "\n"
     ]
    }
   ],
   "source": [
    "help(sf.read)"
   ]
  },
  {
   "cell_type": "code",
   "execution_count": null,
   "metadata": {},
   "outputs": [],
   "source": []
  }
 ],
 "metadata": {
  "kernelspec": {
   "display_name": "Python 3",
   "language": "python",
   "name": "python3"
  },
  "language_info": {
   "codemirror_mode": {
    "name": "ipython",
    "version": 3
   },
   "file_extension": ".py",
   "mimetype": "text/x-python",
   "name": "python",
   "nbconvert_exporter": "python",
   "pygments_lexer": "ipython3",
   "version": "3.7.3"
  }
 },
 "nbformat": 4,
 "nbformat_minor": 2
}
