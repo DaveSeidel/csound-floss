{
 "cells": [
  {
   "cell_type": "code",
   "execution_count": 1,
   "metadata": {},
   "outputs": [],
   "source": [
    "%matplotlib qt5\n",
    "from matplotlib import pyplot as plt"
   ]
  },
  {
   "cell_type": "code",
   "execution_count": 43,
   "metadata": {},
   "outputs": [
    {
     "data": {
      "text/plain": [
       "[<matplotlib.lines.Line2D at 0x7f110a74b668>]"
      ]
     },
     "execution_count": 43,
     "metadata": {},
     "output_type": "execute_result"
    }
   ],
   "source": [
    "fig,ax = plt.subplots(figsize=(10,5))\n",
    "x = [x for x in range(5*32)]\n",
    "y_vals = [0,1/4,1/2,3/4,1]\n",
    "y = [[x]*32 for x in y_vals]\n",
    "y = [y for x in y for y in x]\n",
    "ax.set_xticks([0,32,44,64,88,96,128,132])\n",
    "ax.set_xticklabels(['0\\n0.000','32','\\n0.001','64','\\n0.002','96','\\n0.003','132'])\n",
    "ax.set_xlabel('samples\\nseconds',x=.97,labelpad=-22)\n",
    "ax.set_xlim(0,148)\n",
    "ax.plot(x,y,c='k')"
   ]
  },
  {
   "cell_type": "code",
   "execution_count": 7,
   "metadata": {},
   "outputs": [],
   "source": [
    "32"
   ]
  },
  {
   "cell_type": "code",
   "execution_count": null,
   "metadata": {},
   "outputs": [],
   "source": []
  }
 ],
 "metadata": {
  "kernelspec": {
   "display_name": "Python 3",
   "language": "python",
   "name": "python3"
  },
  "language_info": {
   "codemirror_mode": {
    "name": "ipython",
    "version": 3
   },
   "file_extension": ".py",
   "mimetype": "text/x-python",
   "name": "python",
   "nbconvert_exporter": "python",
   "pygments_lexer": "ipython3",
   "version": "3.7.3"
  }
 },
 "nbformat": 4,
 "nbformat_minor": 2
}
