{
 "cells": [
  {
   "cell_type": "code",
   "execution_count": 1,
   "metadata": {},
   "outputs": [
    {
     "name": "stdout",
     "output_type": "stream",
     "text": [
      "Csound engine started at slot#: 1.\n"
     ]
    }
   ],
   "source": [
    "%matplotlib qt5\n",
    "import matplotlib.pyplot as plt\n",
    "import numpy as np\n",
    "%load_ext csoundmagics\n",
    "cs = ICsound()"
   ]
  },
  {
   "cell_type": "code",
   "execution_count": 21,
   "metadata": {},
   "outputs": [],
   "source": [
    "%%csound\n",
    "giSine    ftgen     1, 0, 2^8, 10, 1\n",
    "giSaw     ftgen     2, 0, 2^8, 10, 1, 1/2, 1/3, 1/4, 1/5, 1/6, 1/7, 1/8, 1/9\n",
    "giSquare  ftgen     3, 0, 2^8, 10, 1, 0, 1/3, 0, 1/5, 0, 1/7, 0, 1/9\n",
    "giTri     ftgen     4, 0, 2^8, 10, 1, 0, -1/9, 0, 1/25, 0, -1/49, 0, 1/81\n",
    "giImp     ftgen     5, 0, 2^8, 10, 1, 1, 1, 1, 1, 1, 1, 1, 1"
   ]
  },
  {
   "cell_type": "code",
   "execution_count": 22,
   "metadata": {},
   "outputs": [],
   "source": [
    "cs.sendScore('i 1 0 .2')"
   ]
  },
  {
   "cell_type": "code",
   "execution_count": 23,
   "metadata": {},
   "outputs": [],
   "source": [
    "fig, ax = plt.subplots(figsize=(10,6))\n",
    "xmax = cs.tableLength(1)\n",
    "x = range(xmax)\n",
    "ax.set_ylim(0,1.05)\n",
    "ax.set_xlim(0,xmax)\n",
    "ax.set_xticks([0,xmax/2,xmax])\n",
    "ax.set_xticklabels([0,0.1,0.2])\n",
    "ax.set_xlabel('time(s)',x=1)\n",
    "ax.spines['top'].set_visible(False)\n",
    "ax.spines['right'].set_visible(False)\n",
    "ax.plot(x,cs.table(1),c='k')\n",
    "\n",
    "plt.show()"
   ]
  },
  {
   "cell_type": "code",
   "execution_count": null,
   "metadata": {},
   "outputs": [],
   "source": [
    "cs.printLog()"
   ]
  },
  {
   "cell_type": "code",
   "execution_count": null,
   "metadata": {},
   "outputs": [],
   "source": []
  }
 ],
 "metadata": {
  "kernelspec": {
   "display_name": "Python 3",
   "language": "python",
   "name": "python3"
  },
  "language_info": {
   "codemirror_mode": {
    "name": "ipython",
    "version": 3
   },
   "file_extension": ".py",
   "mimetype": "text/x-python",
   "name": "python",
   "nbconvert_exporter": "python",
   "pygments_lexer": "ipython3",
   "version": "3.7.3"
  }
 },
 "nbformat": 4,
 "nbformat_minor": 2
}
