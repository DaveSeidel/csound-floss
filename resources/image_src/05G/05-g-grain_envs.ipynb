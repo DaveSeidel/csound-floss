{
 "cells": [
  {
   "cell_type": "code",
   "execution_count": 1,
   "metadata": {},
   "outputs": [
    {
     "name": "stdout",
     "output_type": "stream",
     "text": [
      "Csound engine started at slot#: 1.\n"
     ]
    }
   ],
   "source": [
    "%matplotlib qt5\n",
    "import matplotlib.pyplot as plt\n",
    "import numpy as np\n",
    "%load_ext csoundmagics\n",
    "cs = ICsound()"
   ]
  },
  {
   "cell_type": "code",
   "execution_count": 12,
   "metadata": {},
   "outputs": [],
   "source": [
    "%%csound\n",
    "i0 ftgen 1, 0, 8192, 9, 1/2, 1, 0\n",
    "i0 ftgen 3, 0, 8192, 20, 2, 1\n",
    "i0 ftgen 4, 0, 8192, 20, 6, 1\n",
    "i0 ftgen 2, 0, 8192, 20, 3, 1\n",
    "i0 ftgen 5, 0, 8192, 20, 9, 1\n",
    "i0 ftgen 6, 0, 8192, 20, 9, 1, 5"
   ]
  },
  {
   "cell_type": "code",
   "execution_count": 13,
   "metadata": {},
   "outputs": [],
   "source": [
    "fig, ax = plt.subplots(3,2,figsize=(15,7))\n",
    "xmax = cs.tableLength(1)\n",
    "x = range(xmax)\n",
    "titles = ['Half sine','Triangle','Hanning','Gauss','Sinc -π to +π', 'Sinc -5π to +5π']\n",
    "count = 0\n",
    "for i in range(3):\n",
    "    for j in range(2):\n",
    "        ax[i][j].set_xlim(0,xmax)\n",
    "        ax[i][j].set_xticks([])\n",
    "        ax[i][j].set_title(titles[count])\n",
    "        ax[i][j].axhline(c='k',lw=0.5)\n",
    "        ax[i][j].spines['top'].set_visible(False)\n",
    "        ax[i][j].spines['right'].set_visible(False)\n",
    "        ax[i][j].spines['bottom'].set_visible(False)\n",
    "        ax[i][j].plot(x,cs.table(count+1),c='k')\n",
    "        count += 1\n",
    "fig.tight_layout()\n",
    "plt.show()"
   ]
  },
  {
   "cell_type": "code",
   "execution_count": null,
   "metadata": {},
   "outputs": [],
   "source": [
    "cs.printLog()"
   ]
  },
  {
   "cell_type": "code",
   "execution_count": null,
   "metadata": {},
   "outputs": [],
   "source": []
  }
 ],
 "metadata": {
  "kernelspec": {
   "display_name": "Python 3",
   "language": "python",
   "name": "python3"
  },
  "language_info": {
   "codemirror_mode": {
    "name": "ipython",
    "version": 3
   },
   "file_extension": ".py",
   "mimetype": "text/x-python",
   "name": "python",
   "nbconvert_exporter": "python",
   "pygments_lexer": "ipython3",
   "version": "3.7.3"
  }
 },
 "nbformat": 4,
 "nbformat_minor": 2
}
