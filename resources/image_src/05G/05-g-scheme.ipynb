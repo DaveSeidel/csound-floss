{
 "cells": [
  {
   "cell_type": "code",
   "execution_count": 2,
   "metadata": {},
   "outputs": [],
   "source": [
    "%matplotlib qt5\n",
    "from matplotlib import pyplot as plt"
   ]
  },
  {
   "cell_type": "code",
   "execution_count": 13,
   "metadata": {},
   "outputs": [
    {
     "data": {
      "text/plain": [
       "[]"
      ]
     },
     "execution_count": 13,
     "metadata": {},
     "output_type": "execute_result"
    }
   ],
   "source": [
    "fig,ax = plt.subplots(figsize=(10,5))\n",
    "\n",
    "ypos_grain = .1\n",
    "ypos_granulator = .8\n",
    "xpos_both = .1\n",
    "yoffset = .02\n",
    "\n",
    "ax.text(xpos_both, ypos_granulator+yoffset, 'Granulator', fontsize=18, bbox=dict(facecolor='none'), ha='center', va='bottom')\n",
    "ax.text(xpos_both, ypos_grain-yoffset*1.5, 'Grain', fontsize=18, bbox=dict(facecolor='none'), ha='center', va='top')\n",
    "xpos_vlines = [.1,.3, .4, .55, .7, .8]\n",
    "ypos_hline = .6\n",
    "\n",
    "ax.plot([xpos_both,xpos_both],[ypos_hline,ypos_granulator],'k',lw=1)\n",
    "ax.plot([xpos_vlines[0],xpos_vlines[-1]],2*[ypos_hline],'k',lw=1)\n",
    "for x in xpos_vlines:\n",
    "    ax.plot([x,x],[ypos_hline,ypos_grain],'k',lw=1)\n",
    "    ax.plot(x,ypos_grain,'vk')\n",
    "    \n",
    "for x in xpos_vlines[1:]:\n",
    "    ax.text(x,ypos_grain-yoffset,'...',fontsize=18, va='top', ha='center')\n",
    "\n",
    "ax.text(.7,-.1,'time',va='center')\n",
    "ax.plot([.75,.8],[-.1,-.1],c='k',lw=.5)\n",
    "ax.plot(.8,-.1,'4k',lw=.5)\n",
    "\n",
    "ax.text(0,ypos_granulator+yoffset/2,'Parameters for\\nGranulator',ha='right',va='bottom')\n",
    "ax.text(0,ypos_grain-yoffset,'Parameters for\\none Grain',ha='right',va='top')\n",
    "\n",
    "\n",
    "ax.axis('off')\n",
    "fig.tight_layout()\n",
    "plt.plot()"
   ]
  },
  {
   "cell_type": "code",
   "execution_count": null,
   "metadata": {},
   "outputs": [],
   "source": [
    "2*[ypos_hline]"
   ]
  },
  {
   "cell_type": "code",
   "execution_count": null,
   "metadata": {},
   "outputs": [],
   "source": []
  }
 ],
 "metadata": {
  "kernelspec": {
   "display_name": "Python 3",
   "language": "python",
   "name": "python3"
  },
  "language_info": {
   "codemirror_mode": {
    "name": "ipython",
    "version": 3
   },
   "file_extension": ".py",
   "mimetype": "text/x-python",
   "name": "python",
   "nbconvert_exporter": "python",
   "pygments_lexer": "ipython3",
   "version": "3.7.3"
  }
 },
 "nbformat": 4,
 "nbformat_minor": 2
}
