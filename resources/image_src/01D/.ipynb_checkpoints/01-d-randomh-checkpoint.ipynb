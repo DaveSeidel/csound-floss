{
 "cells": [
  {
   "cell_type": "code",
   "execution_count": 1,
   "metadata": {},
   "outputs": [
    {
     "name": "stdout",
     "output_type": "stream",
     "text": [
      "Csound engine started at slot#: 1.\n"
     ]
    }
   ],
   "source": [
    "%matplotlib qt5\n",
    "import matplotlib.pyplot as plt\n",
    "import numpy as np\n",
    "%load_ext csoundmagics\n",
    "cs = ICsound()"
   ]
  },
  {
   "cell_type": "code",
   "execution_count": 11,
   "metadata": {},
   "outputs": [],
   "source": [
    "%%csound\n",
    "ksmps = 128\n",
    "seed 54321\n",
    "i0 ftgen 1, 0, kr*5, 2, 0\n",
    "i1 ftgen 2, 0, kr*5, 2, 0\n",
    "i2 ftgen 3, 0, kr*5, 2, 0\n",
    "i3 ftgen 4, 0, kr*5, 2, 0\n",
    "\n",
    "instr 1\n",
    " kndx init 0\n",
    " k0 randomh -1, 1, 2, 0\n",
    " tablew k0, kndx, 1\n",
    " k1 randomh -1, 1, 2, 1\n",
    " tablew k1, kndx, 2\n",
    " k2 randomh -1, 1, 2, 2\n",
    " tablew k2, kndx, 3\n",
    " k3 randomh -1, 1, 2, 3\n",
    " tablew k3, kndx, 4\n",
    " kndx += 1\n",
    "endin"
   ]
  },
  {
   "cell_type": "code",
   "execution_count": 12,
   "metadata": {},
   "outputs": [],
   "source": [
    "cs.sendScore('i 1 0 5')"
   ]
  },
  {
   "cell_type": "code",
   "execution_count": 13,
   "metadata": {},
   "outputs": [],
   "source": [
    "fig, ax = plt.subplots(4,1,figsize=(15,8),sharey=True)\n",
    "xmax = cs.tableLength(1)\n",
    "x = range(xmax)\n",
    "\n",
    "for i in range(4):\n",
    "    ax[i].plot(x,cs.table(i+1),c='k')\n",
    "    ax[i].set(title='imode = %d'%i,xticks=[x*480 for x in range(6)],xlim=(0,xmax),xticklabels=[x for x in range(6)])\n",
    "    ax[i].spines['top'].set_visible(False)\n",
    "    ax[i].spines['right'].set_visible(False)\n",
    "\n",
    "ax[3].set_xlabel('time(s)',x=1)\n",
    "fig.tight_layout()"
   ]
  },
  {
   "cell_type": "code",
   "execution_count": 7,
   "metadata": {},
   "outputs": [
    {
     "name": "stdout",
     "output_type": "stream",
     "text": [
      "rtaudio: ALSA module enabled\n",
      "rtmidi: ALSA Raw MIDI module enabled\n",
      "graphics suppressed, ascii substituted\n",
      "0dBFS level = 1.0\n",
      "orch now loaded\n",
      "audio buffered in 256 sample-frame blocks\n",
      "ALSA output: total buffer size: 1024, period size: 256\n",
      "writing 512 sample blks of 64-bit floats to dac\n",
      "SECTION 1:\n",
      "WARNING: system constants can only be set once\n",
      "\n",
      "ftable 1:\n",
      "ftable 1:\t4800 points, scalemax 0.000\n",
      "  rtevent:\t   T135.415 TT135.415 M:  0.00000  0.00000\n",
      "new alloc for instr 1:\n",
      "\n"
     ]
    }
   ],
   "source": [
    "cs.printLog()"
   ]
  },
  {
   "cell_type": "code",
   "execution_count": null,
   "metadata": {},
   "outputs": [],
   "source": []
  }
 ],
 "metadata": {
  "kernelspec": {
   "display_name": "Python 3",
   "language": "python",
   "name": "python3"
  },
  "language_info": {
   "codemirror_mode": {
    "name": "ipython",
    "version": 3
   },
   "file_extension": ".py",
   "mimetype": "text/x-python",
   "name": "python",
   "nbconvert_exporter": "python",
   "pygments_lexer": "ipython3",
   "version": "3.7.3"
  }
 },
 "nbformat": 4,
 "nbformat_minor": 2
}
