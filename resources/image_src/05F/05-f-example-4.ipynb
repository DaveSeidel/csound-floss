{
 "cells": [
  {
   "cell_type": "code",
   "execution_count": 1,
   "metadata": {},
   "outputs": [
    {
     "name": "stdout",
     "output_type": "stream",
     "text": [
      "Csound engine started at slot#: 1.\n"
     ]
    }
   ],
   "source": [
    "%matplotlib qt5\n",
    "import matplotlib.pyplot as plt\n",
    "import numpy as np\n",
    "%load_ext csoundmagics\n",
    "cs = ICsound()"
   ]
  },
  {
   "cell_type": "code",
   "execution_count": 2,
   "metadata": {},
   "outputs": [],
   "source": [
    "%%csound\n",
    "gi1 ftgen 1,0,257,9,.5,1,270 ;sinoid (also the next)\n",
    "gi2 ftgen 2,0,257,9,.5,1,270,1.5,.33,90,2.5,.2,270,3.5,.143,90\n",
    "gi3 ftgen 3,0,129,7,-1,128,1 ;actually natural\n",
    "gi4 ftgen 4,0,129,10,1 ;sine\n",
    "gi5 ftgen 5,0,129,10,1,0,1,0,1,0,1,0,1 ;odd partials\n",
    "gi6 ftgen 6,0,129,21,1 ;white noise\n",
    "gi7 ftgen 7,0,129,9,.5,1,0 ;half sine\n",
    "gi8 ftgen 8,0,129,7,1,64,1,0,-1,64,-1 ;square wave"
   ]
  },
  {
   "cell_type": "code",
   "execution_count": 7,
   "metadata": {},
   "outputs": [],
   "source": [
    "fig, ax = plt.subplots(ncols=4,nrows=2,figsize=(15,7))\n",
    "#titles = ['','Saw','Square','Triangle','Impulse']\n",
    "tabnum = 1\n",
    "for i in range(2):\n",
    "    for j in range(4):\n",
    "        xmax = cs.tableLength(tabnum)\n",
    "        x = range(xmax)\n",
    "        ax[i][j].set_xlim(0,xmax)\n",
    "        ax[i][j].set_xticks([])\n",
    "        ax[i][j].set_yticks([-1,0,1])\n",
    "        ax[i][j].set_title('table %d'%tabnum)\n",
    "        ax[i][j].axhline(c='k',lw=0.5)\n",
    "        ax[i][j].spines['top'].set_visible(False)\n",
    "        ax[i][j].spines['right'].set_visible(False)\n",
    "        ax[i][j].spines['bottom'].set_visible(False)\n",
    "        ax[i][j].plot(x,cs.table(tabnum),c='k')\n",
    "        tabnum += 1\n",
    "fig.tight_layout()\n",
    "plt.show()"
   ]
  },
  {
   "cell_type": "code",
   "execution_count": null,
   "metadata": {},
   "outputs": [],
   "source": [
    "cs.printLog()"
   ]
  },
  {
   "cell_type": "code",
   "execution_count": null,
   "metadata": {},
   "outputs": [],
   "source": []
  }
 ],
 "metadata": {
  "kernelspec": {
   "display_name": "Python 3",
   "language": "python",
   "name": "python3"
  },
  "language_info": {
   "codemirror_mode": {
    "name": "ipython",
    "version": 3
   },
   "file_extension": ".py",
   "mimetype": "text/x-python",
   "name": "python",
   "nbconvert_exporter": "python",
   "pygments_lexer": "ipython3",
   "version": "3.7.3"
  }
 },
 "nbformat": 4,
 "nbformat_minor": 2
}
